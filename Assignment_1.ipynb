{
  "nbformat": 4,
  "nbformat_minor": 0,
  "metadata": {
    "colab": {
      "name": "Assignment_1.ipynb",
      "provenance": []
    },
    "kernelspec": {
      "name": "python3",
      "display_name": "Python 3"
    }
  },
  "cells": [
    {
      "cell_type": "markdown",
      "metadata": {
        "id": "To9-g4HOKGBF",
        "colab_type": "text"
      },
      "source": [
        "# **Task 1**"
      ]
    },
    {
      "cell_type": "markdown",
      "metadata": {
        "id": "MKREZc_hKu0l",
        "colab_type": "text"
      },
      "source": [
        "\n",
        "# 1. Install Jupyter notebook and run the first program and share the screenshot of the output.\n"
      ]
    },
    {
      "cell_type": "code",
      "metadata": {
        "id": "kT3Mnl01yr0R",
        "colab_type": "code",
        "colab": {
          "base_uri": "https://localhost:8080/",
          "height": 34
        },
        "outputId": "bf41f193-7a14-4021-b12d-98e8bddfb7a6"
      },
      "source": [
        "s=\"Aditya Singh\"\n",
        "s*5"
      ],
      "execution_count": 41,
      "outputs": [
        {
          "output_type": "execute_result",
          "data": {
            "text/plain": [
              "'Aditya SinghAditya SinghAditya SinghAditya SinghAditya Singh'"
            ]
          },
          "metadata": {
            "tags": []
          },
          "execution_count": 41
        }
      ]
    },
    {
      "cell_type": "markdown",
      "metadata": {
        "id": "IfqyfT2MLTyR",
        "colab_type": "text"
      },
      "source": [
        "### 2. Write a program which will find all such numbers which are divisible by 7 but are not a multiple of 5, between 2000 and 3200 (both included). The numbers obtained should be printed in a comma-separated sequence on a single line."
      ]
    },
    {
      "cell_type": "code",
      "metadata": {
        "id": "stAyKgQ-yr7Y",
        "colab_type": "code",
        "colab": {
          "base_uri": "https://localhost:8080/",
          "height": 54
        },
        "outputId": "fb1bde5f-6483-43d2-b648-74ca4031d8ad"
      },
      "source": [
        "l=[]\n",
        "for i in range(2000,3201):\n",
        "  if(i%7==0) and (i%5!=0):\n",
        "    l.append(str(i))\n",
        "\n",
        "print(','.join(l))"
      ],
      "execution_count": 42,
      "outputs": [
        {
          "output_type": "stream",
          "text": [
            "2002,2009,2016,2023,2037,2044,2051,2058,2072,2079,2086,2093,2107,2114,2121,2128,2142,2149,2156,2163,2177,2184,2191,2198,2212,2219,2226,2233,2247,2254,2261,2268,2282,2289,2296,2303,2317,2324,2331,2338,2352,2359,2366,2373,2387,2394,2401,2408,2422,2429,2436,2443,2457,2464,2471,2478,2492,2499,2506,2513,2527,2534,2541,2548,2562,2569,2576,2583,2597,2604,2611,2618,2632,2639,2646,2653,2667,2674,2681,2688,2702,2709,2716,2723,2737,2744,2751,2758,2772,2779,2786,2793,2807,2814,2821,2828,2842,2849,2856,2863,2877,2884,2891,2898,2912,2919,2926,2933,2947,2954,2961,2968,2982,2989,2996,3003,3017,3024,3031,3038,3052,3059,3066,3073,3087,3094,3101,3108,3122,3129,3136,3143,3157,3164,3171,3178,3192,3199\n"
          ],
          "name": "stdout"
        }
      ]
    },
    {
      "cell_type": "markdown",
      "metadata": {
        "id": "2gk9I4nXNMU7",
        "colab_type": "text"
      },
      "source": [
        "### 3. Write a Python program to accept the user's first and last name and then getting them printed in the the reverse order with a space between first name and last name."
      ]
    },
    {
      "cell_type": "code",
      "metadata": {
        "id": "vCI4jr9CyryZ",
        "colab_type": "code",
        "colab": {
          "base_uri": "https://localhost:8080/",
          "height": 85
        },
        "outputId": "096b2bc4-fc54-4222-fbf1-05bb9dc8ff07"
      },
      "source": [
        "f= input(\"Enter first name \")\n",
        "l= input(\"Enter last name \")\n",
        "print(l,f)\n",
        "print(l[::-1] , f[::-1])"
      ],
      "execution_count": 43,
      "outputs": [
        {
          "output_type": "stream",
          "text": [
            "Enter first name Aditya\n",
            "Enter last name Singh\n",
            "Singh Aditya\n",
            "hgniS aytidA\n"
          ],
          "name": "stdout"
        }
      ]
    },
    {
      "cell_type": "markdown",
      "metadata": {
        "id": "oYOeg35ZOMhX",
        "colab_type": "text"
      },
      "source": [
        "### 4. Write a Python program to find the volume of a sphere with diameter 12 cm. Formula: V=4/3 * π * r 3"
      ]
    },
    {
      "cell_type": "code",
      "metadata": {
        "id": "PJwFXDp3yrv8",
        "colab_type": "code",
        "colab": {
          "base_uri": "https://localhost:8080/",
          "height": 34
        },
        "outputId": "3fa298b6-2657-4976-dec5-c4c1d852e563"
      },
      "source": [
        "import math\n",
        "d=12\n",
        "r=d/2\n",
        "v= 4/3*(math.pi)*r**3\n",
        "print(\"Volume of a sphere =\",v )"
      ],
      "execution_count": 44,
      "outputs": [
        {
          "output_type": "stream",
          "text": [
            "Volume of a sphere = 904.7786842338603\n"
          ],
          "name": "stdout"
        }
      ]
    },
    {
      "cell_type": "markdown",
      "metadata": {
        "id": "VqsCF0pRQeie",
        "colab_type": "text"
      },
      "source": [
        "# **Task 2**"
      ]
    },
    {
      "cell_type": "markdown",
      "metadata": {
        "id": "OEUSXtMeQqB_",
        "colab_type": "text"
      },
      "source": [
        "### 1. Write a program which accepts a sequence of comma-separated numbers from console and generate a list."
      ]
    },
    {
      "cell_type": "code",
      "metadata": {
        "id": "qtxIlXa_yrrA",
        "colab_type": "code",
        "colab": {
          "base_uri": "https://localhost:8080/",
          "height": 51
        },
        "outputId": "8dcd26dd-d888-4c52-d7a8-ec93ec9196f5"
      },
      "source": [
        "nl=[]\n",
        "l=input(\"Enter comma seperated values here \")\n",
        "nl.append(l)\n",
        "print(nl)"
      ],
      "execution_count": 45,
      "outputs": [
        {
          "output_type": "stream",
          "text": [
            "Enter comma seperated values here 5,6,7,8,9,5,2,5\n",
            "['5,6,7,8,9,5,2,5']\n"
          ],
          "name": "stdout"
        }
      ]
    },
    {
      "cell_type": "markdown",
      "metadata": {
        "id": "Q8yhFeXiSniA",
        "colab_type": "text"
      },
      "source": [
        "### 2. Create the below pattern using nested for loop in Python.\n"
      ]
    },
    {
      "cell_type": "code",
      "metadata": {
        "id": "aGJw988_QjmZ",
        "colab_type": "code",
        "colab": {
          "base_uri": "https://localhost:8080/",
          "height": 187
        },
        "outputId": "025bf45f-4727-458d-dd6e-dadc6181b224"
      },
      "source": [
        "n=int(input(\"Enter number \"))\n",
        "for i in range(n):\n",
        "  print(\"*\" * (i+1))\n",
        "for i in range(n-1):\n",
        "  print(\"*\" * (n-i-1))"
      ],
      "execution_count": 47,
      "outputs": [
        {
          "output_type": "stream",
          "text": [
            "Enter number 5\n",
            "*\n",
            "**\n",
            "***\n",
            "****\n",
            "*****\n",
            "****\n",
            "***\n",
            "**\n",
            "*\n"
          ],
          "name": "stdout"
        }
      ]
    },
    {
      "cell_type": "code",
      "metadata": {
        "id": "Q-b_OFspQjpk",
        "colab_type": "code",
        "colab": {}
      },
      "source": [
        ""
      ],
      "execution_count": 0,
      "outputs": []
    },
    {
      "cell_type": "markdown",
      "metadata": {
        "id": "yhEfoguHhzFx",
        "colab_type": "text"
      },
      "source": [
        "### 3. Write a Python program to reverse a word after accepting the input from the user."
      ]
    },
    {
      "cell_type": "code",
      "metadata": {
        "id": "wYTZSm5QQjuX",
        "colab_type": "code",
        "colab": {
          "base_uri": "https://localhost:8080/",
          "height": 51
        },
        "outputId": "957ab07f-237d-45cb-c159-2eeaefb546b9"
      },
      "source": [
        "s=input(\"enter the word \")\n",
        "print(s[::-1])"
      ],
      "execution_count": 34,
      "outputs": [
        {
          "output_type": "stream",
          "text": [
            "enter the word Aditya\n",
            "aytidA\n"
          ],
          "name": "stdout"
        }
      ]
    },
    {
      "cell_type": "markdown",
      "metadata": {
        "id": "X6rkRBb2ihZB",
        "colab_type": "text"
      },
      "source": [
        "### 4. Write a Python Program to print the given string in the format specified in the sample output. \n",
        "WE, THE PEOPLE OF INDIA, having solemnly resolved to constitute India into a SOVEREIGN, SOCIALIST, SECULAR, DEMOCRATIC REPUBLIC and to secure to all its citizens Sample Output: WE, THE PEOPLE OF INDIA, having solemnly resolved to constitute India into a SOVEREIGN, ! SOCIALIST, SECULAR, DEMOCRATIC REPUBLIC and to secure to all its citizens"
      ]
    },
    {
      "cell_type": "code",
      "metadata": {
        "id": "WUNDqG3tQjkp",
        "colab_type": "code",
        "colab": {
          "base_uri": "https://localhost:8080/",
          "height": 85
        },
        "outputId": "a4bced0c-bf17-44ab-9447-18f575a2d0ec"
      },
      "source": [
        "print(\"WE, THE PEOPLE OF INDIA,\\n\\thaving solemnly resolved to constitute India into a SOVEREIGN, !\\n\\t\\tSOCIALIST, SECULAR, DEMOCRATIC REPUBLIC\\n\\t\\t and to secure to all its citizens\")"
      ],
      "execution_count": 40,
      "outputs": [
        {
          "output_type": "stream",
          "text": [
            "WE, THE PEOPLE OF INDIA,\n",
            "\thaving solemnly resolved to constitute India into a SOVEREIGN, !\n",
            "\t\tSOCIALIST, SECULAR, DEMOCRATIC REPUBLIC\n",
            "\t\t and to secure to all its citizens\n"
          ],
          "name": "stdout"
        }
      ]
    },
    {
      "cell_type": "code",
      "metadata": {
        "id": "ghr3HAAUyrpQ",
        "colab_type": "code",
        "colab": {}
      },
      "source": [
        ""
      ],
      "execution_count": 0,
      "outputs": []
    }
  ]
}